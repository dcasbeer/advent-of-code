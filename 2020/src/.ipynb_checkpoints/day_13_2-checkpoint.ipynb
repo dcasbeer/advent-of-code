{
 "cells": [
  {
   "cell_type": "markdown",
   "metadata": {},
   "source": [
    "# Day 13: Problem 2\n",
    "This problem was new to me. I needed to learn a little bit about number thoery."
   ]
  },
  {
   "cell_type": "markdown",
   "metadata": {},
   "source": [
    "## The problem\n",
    "Let the index of the bus be given by its (zero-indexed) location in the list. For example, with a list \"17,x,13,19\", Bus 0 is $b_0=17$, Bus 2 is $b_2 = 13$ and Bus 3 is $b_3 = 19$. We want to find a timestamp $t$, such that Bus 1 leaves at that timestamp, and all other buses leave at timestamp $t + i$, where $i$ is the index of the bus. In this example, Bus 1 would leave at time $t$; Bus 2 would leave at time $t+2$; and Bus 3 would leave at time $t+3$. \n",
    "\n",
    "This timestamp $t$ is the solution to the following system of equations:\n",
    "$$ t+i~ (\\text{mod}~b_i) = 0, \\forall i~\\text{in the list of buses}$$\n",
    "\n",
    "Rearranging this becomes, \n",
    "$$ t = -i~ (\\text{mod}~b_i), \\forall i~\\text{in the list of buses}$$\n",
    "\n",
    "**[The Chinese Remainder Theorem](https://crypto.stanford.edu/pbc/notes/numbertheory/crt.html)** Gives a method to solve a system of equations given by the latter form.\n",
    "\n",
    "For our example, this is written as:\n",
    "$$\n",
    "t = 0~(\\text{mod}~ 17) \\\\\n",
    "t = -2~(\\text{mod}~ 13) \\\\\n",
    "t = -3~(\\text{mod}~ 19)\n",
    "$$"
   ]
  },
  {
   "cell_type": "markdown",
   "metadata": {},
   "source": [
    "## Chinese Remainder Theorem\n",
    "Let $M = \\prod_i b_i$. Define $q_i = M/b_i$ and $q'_i = q_i^{-1}~(\\text{mod}~b_i)$. Then the solution is given by\n",
    "\n",
    "$$ t = \\sum_i -i q_i q'_i~(\\text{mod}~M).$$\n",
    "\n",
    "The only thing missing is to determine the inverse $b'_i$. For this inverse to exist the greatest common denominator must satisfy $\\text{gcd}(q_i,b_i) = 1$; *i.e.,* they are coprime. The proof of existence of such an inverse and the inverse itself can be computed using ([Euclid's algorithm](https://crypto.stanford.edu/pbc/notes/numbertheory/euclid.html) is one method to show existence (gcd =1) as well as [compute the inverse](https://crypto.stanford.edu/pbc/notes/numbertheory/division.html). \n",
    "\n",
    "*Note: Julia has a built in function to compute this inverse:* ```invmod```\n",
    "\n",
    "*Note 2: The ```Mods``` Julia package has a function that computes the Chinese Remainder Theorem:* ```CRT```"
   ]
  },
  {
   "cell_type": "code",
   "execution_count": 54,
   "metadata": {},
   "outputs": [
    {
     "data": {
      "text/plain": [
       "getBuses (generic function with 1 method)"
      ]
     },
     "execution_count": 54,
     "metadata": {},
     "output_type": "execute_result"
    }
   ],
   "source": [
    "function getBuses(input)\n",
    "    if typeof(input) == String # Need this to deal with my test cases as well as reading in the input\n",
    "        buses = split(input,',')\n",
    "    else \n",
    "        buses = split(input[2],',')\n",
    "    end\n",
    "    ans = Array{Int128,1}()\n",
    "    ans2 = Array{Int128,1}()\n",
    "    count = 0\n",
    "    for b in buses\n",
    "        if b != \"x\" \n",
    "            push!(ans,parse(Int64,b))\n",
    "            push!(ans2,count)\n",
    "        end\n",
    "        count += 1\n",
    "    end\n",
    "    return ans,ans2\n",
    "end"
   ]
  },
  {
   "cell_type": "code",
   "execution_count": 90,
   "metadata": {},
   "outputs": [
    {
     "data": {
      "text/plain": [
       "my_CRT (generic function with 1 method)"
      ]
     },
     "execution_count": 90,
     "metadata": {},
     "output_type": "execute_result"
    }
   ],
   "source": [
    "function bezout(a,b)\n",
    "#     if m > b\n",
    "#          rkm1 = m\n",
    "#          rk = b\n",
    "#     else\n",
    "#         rkm1 = b\n",
    "#         rk = m\n",
    "#     end\n",
    "    rkm1 = a\n",
    "    rk = b\n",
    "    skm1,tkm1,sk,tk = 1,0,0,1\n",
    "    rkp1 = 1 # Initialize to start while loop\n",
    "    while rkp1 != 0\n",
    "        q = rkm1 ÷ rk \n",
    "        rkp1 = rkm1 - q*rk # Get remainder\n",
    "#         println(\"Quotient: \",q,\" r{k-1} = \",rkm1,\" r{k} = \",rk,\" r{k+1} = \",rkp1)\n",
    "        rkm1 = rk # Update values for next iteration\n",
    "        rk = rkp1\n",
    "#         println(\"r{k-1} = \",rkm1,\" r{k} = \",rk,\" r{k+1} = \",rkp1)\n",
    "        skp1 = skm1 - q*sk\n",
    "        tkp1 = tkm1 - q*tk\n",
    "        skm1 = sk\n",
    "        tkm1 = tk\n",
    "        tk = tkp1\n",
    "        sk = skp1\n",
    "    end\n",
    "    return rkm1,skm1,tkm1 # GCD, Bezout1, Bezout 2\n",
    "end\n",
    "function inverse(b,m)\n",
    "    # Julia has a built in function to do this <invmod>\n",
    "    answer = bezout(b,m)\n",
    "    if answer[1] == 1\n",
    "        return mod(answer[2],m)\n",
    "    end\n",
    "end\n",
    "function my_CRT(ind,input)\n",
    "    M = prod(input)\n",
    "    return mod(sum(-ai * inverse(M ÷ ni, ni) * M ÷ ni for (ni,ai) in zip(input,ind)),M)\n",
    "end"
   ]
  },
  {
   "cell_type": "markdown",
   "metadata": {},
   "source": [
    "### Calculates the value of the chinese remainder theorem\n",
    "$$ x = \\sum_i i q_i q'_i~(\\text{mod}~M).$$\n",
    "\n",
    "**Note:** By inspection, the bus numbers are all coprime (this holds for the given input for this problem). This is helpful and eliminates a step needed to find the greatest common denominator of all the buses. "
   ]
  },
  {
   "cell_type": "code",
   "execution_count": 95,
   "metadata": {},
   "outputs": [
    {
     "name": "stdout",
     "output_type": "stream",
     "text": [
      "Test 1\n",
      "my_CRT(ind, input) = 3417\n",
      "CRT(Mod{17}(0), Mod{13}(-2), Mod{19}(-3)) = Mod{4199}(3417)\n",
      "\n",
      "Test 2\n",
      "my_CRT(ind, input) = 1068781\n",
      "CRT(Mod{7}(0), Mod{13}(-1), Mod{59}(-4), Mod{31}(-6), Mod{19}(-7)) = Mod{3162341}(1068781)\n"
     ]
    },
    {
     "data": {
      "text/plain": [
       "Mod{3162341}(1068781)"
      ]
     },
     "execution_count": 95,
     "metadata": {},
     "output_type": "execute_result"
    }
   ],
   "source": [
    "using Mods\n",
    "# Check the solution using Mods Chinese Remainder Theorem\n",
    "println(\"Test 1\")\n",
    "test1 = \"17,x,13,19\" # 3417\n",
    "input,ind = getBuses(test1)\n",
    "@show my_CRT(ind,input)\n",
    "@show CRT(Mod{17}(0),Mod{13}(-2),Mod{19}(-3))\n",
    "println(\"\\nTest 2\")\n",
    "test1 = readlines(\"../testdata/day_13.txt\") # 1068781\n",
    "input,ind = getBuses(test1)\n",
    "@show my_CRT(ind,input)\n",
    "@show CRT(Mod{7}(0),Mod{13}(-1),Mod{59}(-4),Mod{31}(-6),Mod{19}(-7))"
   ]
  },
  {
   "cell_type": "markdown",
   "metadata": {},
   "source": [
    "# The solution to today's problem"
   ]
  },
  {
   "cell_type": "code",
   "execution_count": 98,
   "metadata": {},
   "outputs": [
    {
     "name": "stdout",
     "output_type": "stream",
     "text": [
      "The solution is: 894954360381385\n"
     ]
    }
   ],
   "source": [
    "test1 = readlines(\"../data/day_13.txt\") \n",
    "\n",
    "input,ind = getBuses(test1)\n",
    "println(\"The solution is: \",my_CRT(ind,input))\n"
   ]
  },
  {
   "cell_type": "code",
   "execution_count": null,
   "metadata": {},
   "outputs": [],
   "source": []
  }
 ],
 "metadata": {
  "kernelspec": {
   "display_name": "Julia 1.5.3",
   "language": "julia",
   "name": "julia-1.5"
  },
  "language_info": {
   "file_extension": ".jl",
   "mimetype": "application/julia",
   "name": "julia",
   "version": "1.5.3"
  }
 },
 "nbformat": 4,
 "nbformat_minor": 2
}
