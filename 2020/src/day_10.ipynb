{
 "cells": [
  {
   "cell_type": "code",
   "execution_count": 1,
   "metadata": {},
   "outputs": [
    {
     "name": "stdout",
     "output_type": "stream",
     "text": [
      "\u001b[32m\u001b[1mActivating\u001b[22m\u001b[39m environment at `~/Code/AdventofCode/AdventofCode2020/Project.toml`\n"
     ]
    }
   ],
   "source": [
    "] activate ../.. # Activates package in the listed file\n",
    "#] add DesiredPackage ## Adds packages to the project file\n",
    "] st # status \n",
    "pwd() # Current directory"
   ]
  },
  {
   "cell_type": "code",
   "execution_count": 5,
   "metadata": {},
   "outputs": [
    {
     "ename": "UndefVarError",
     "evalue": "UndefVarError: notebook not defined",
     "output_type": "error",
     "traceback": [
      "UndefVarError: notebook not defined",
      "",
      "Stacktrace:",
      " [1] top-level scope at In[5]:2"
     ]
    }
   ],
   "source": [
    "using AdventOfCode\n",
    "\n",
    "input = readlines(\"/Users/casbeedw/Code/AdventofCode/AdventofCode2020/2020/data/day_10.txt\")\n"
   ]
  },
  {
   "cell_type": "code",
   "execution_count": null,
   "metadata": {},
   "outputs": [],
   "source": []
  }
 ],
 "metadata": {
  "kernelspec": {
   "display_name": "Julia 1.3.0",
   "language": "julia",
   "name": "julia-1.3"
  },
  "language_info": {
   "file_extension": ".jl",
   "mimetype": "application/julia",
   "name": "julia",
   "version": "1.3.0"
  },
  "orig_nbformat": 2
 },
 "nbformat": 4,
 "nbformat_minor": 2
}